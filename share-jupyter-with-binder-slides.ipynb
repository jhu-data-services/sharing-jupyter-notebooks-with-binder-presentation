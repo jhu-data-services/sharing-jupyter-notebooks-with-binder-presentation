{
 "cells": [
  {
   "cell_type": "markdown",
   "id": "aaae8c63",
   "metadata": {
    "slideshow": {
     "slide_type": "slide"
    }
   },
   "source": [
    "## Sharing a Jupyter Notebook with Binder\n",
    "![Binder Logo](https://www.marsja.se/wp-content/uploads/2019/07/how_to_reproducible_code_python_binder.png)"
   ]
  },
  {
   "cell_type": "markdown",
   "id": "8eb5de76",
   "metadata": {
    "slideshow": {
     "slide_type": "fragment"
    }
   },
   "source": [
    "### JHU Data Services Reproducible Research Series"
   ]
  },
  {
   "cell_type": "markdown",
   "id": "db326735",
   "metadata": {
    "slideshow": {
     "slide_type": "fragment"
    }
   },
   "source": [
    "**Pete Lawson Ph.D.**<br>\n",
    "Data and Visualization Librarian"
   ]
  },
  {
   "cell_type": "markdown",
   "id": "b89c99f2",
   "metadata": {
    "slideshow": {
     "slide_type": "subslide"
    }
   },
   "source": [
    "## What is a Jupyter Notebook?"
   ]
  },
  {
   "cell_type": "markdown",
   "id": "11f55280",
   "metadata": {
    "slideshow": {
     "slide_type": "fragment"
    }
   },
   "source": [
    "The Jupyter Notebook is a web application for creating and sharing interactive documents that contain code, visualizations, and text."
   ]
  },
  {
   "cell_type": "markdown",
   "id": "772e4c89",
   "metadata": {
    "slideshow": {
     "slide_type": "subslide"
    }
   },
   "source": [
    "![Jupyter Notebook Examples](https://jupyter.org/assets/jupyterpreview.png)"
   ]
  },
  {
   "cell_type": "markdown",
   "id": "63bec042",
   "metadata": {
    "slideshow": {
     "slide_type": "subslide"
    }
   },
   "source": [
    "### It's easy to share code as static text, but what if you want it to run?"
   ]
  },
  {
   "cell_type": "markdown",
   "id": "e4b609ea",
   "metadata": {
    "slideshow": {
     "slide_type": "fragment"
    }
   },
   "source": [
    "Thats not as easy.\n",
    "\n",
    "You would need (at least) the following:"
   ]
  },
  {
   "cell_type": "markdown",
   "id": "b19dcc66",
   "metadata": {
    "slideshow": {
     "slide_type": "fragment"
    }
   },
   "source": [
    "* Hardware on which the code can run."
   ]
  },
  {
   "cell_type": "markdown",
   "id": "221e68b8",
   "metadata": {
    "slideshow": {
     "slide_type": "fragment"
    }
   },
   "source": [
    "* All of the software you need to run your code, including:\n",
    "  1. An operating system to run your programming language interpreter or compiler. \n",
    "  2. A programming language to run your code (Python, R, Julia, etc.)\n",
    "  3. Any software packages your code may need to run (`matplotlib`, `pandas`, `seaborn`, etc).\n"
   ]
  },
  {
   "cell_type": "markdown",
   "id": "533fc57a",
   "metadata": {
    "slideshow": {
     "slide_type": "subslide"
    }
   },
   "source": [
    "### Binder does this.\n"
   ]
  },
  {
   "cell_type": "markdown",
   "id": "a61366d2",
   "metadata": {
    "slideshow": {
     "slide_type": "fragment"
    }
   },
   "source": [
    "You provide the code, and Binder \"binds\" it together with the hardware and software to run it."
   ]
  },
  {
   "cell_type": "markdown",
   "id": "9fe28552",
   "metadata": {
    "slideshow": {
     "slide_type": "fragment"
    }
   },
   "source": [
    "Using Binder, you can create a link to a **live, interactive** version of your code."
   ]
  },
  {
   "cell_type": "markdown",
   "id": "1e573ee4",
   "metadata": {
    "slideshow": {
     "slide_type": "subslide"
    }
   },
   "source": [
    "![Binder UI](./images/binder-ui.png)"
   ]
  },
  {
   "cell_type": "markdown",
   "id": "ff3d52a8",
   "metadata": {
    "slideshow": {
     "slide_type": "subslide"
    }
   },
   "source": [
    "![Binder UI](./images/binder-ui-sharing.png)"
   ]
  },
  {
   "cell_type": "markdown",
   "id": "f530d6cb",
   "metadata": {
    "slideshow": {
     "slide_type": "subslide"
    }
   },
   "source": [
    "### Binder needs documentation to."
   ]
  },
  {
   "cell_type": "markdown",
   "id": "bbf3c21a",
   "metadata": {
    "slideshow": {
     "slide_type": "subslide"
    }
   },
   "source": [
    "### A README.md for the computer"
   ]
  },
  {
   "cell_type": "markdown",
   "id": "0c87141b",
   "metadata": {
    "slideshow": {
     "slide_type": "fragment"
    }
   },
   "source": [
    "If you are using packages, you need to tell Binder what to do."
   ]
  },
  {
   "cell_type": "markdown",
   "id": "9f6eac4f",
   "metadata": {
    "slideshow": {
     "slide_type": "subslide"
    }
   },
   "source": [
    "### YAML Ain't Markup Language (YAML) "
   ]
  },
  {
   "cell_type": "markdown",
   "id": "bd8d6305",
   "metadata": {
    "slideshow": {
     "slide_type": "fragment"
    }
   },
   "source": [
    "`environment.yml`"
   ]
  },
  {
   "cell_type": "markdown",
   "id": "75f71cf4",
   "metadata": {
    "slideshow": {
     "slide_type": "fragment"
    }
   },
   "source": [
    "![environment](./images/environment.png)"
   ]
  }
 ],
 "metadata": {
  "celltoolbar": "Slideshow",
  "kernelspec": {
   "display_name": "Python 3 (ipykernel)",
   "language": "python",
   "name": "python3"
  },
  "language_info": {
   "codemirror_mode": {
    "name": "ipython",
    "version": 3
   },
   "file_extension": ".py",
   "mimetype": "text/x-python",
   "name": "python",
   "nbconvert_exporter": "python",
   "pygments_lexer": "ipython3",
   "version": "3.8.5"
  }
 },
 "nbformat": 4,
 "nbformat_minor": 5
}
